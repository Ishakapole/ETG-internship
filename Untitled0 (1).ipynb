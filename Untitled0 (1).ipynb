{
  "nbformat": 4,
  "nbformat_minor": 0,
  "metadata": {
    "colab": {
      "name": "Untitled0.ipynb",
      "provenance": [],
      "collapsed_sections": []
    },
    "kernelspec": {
      "name": "python3",
      "display_name": "Python 3"
    },
    "language_info": {
      "name": "python"
    }
  },
  "cells": [
    {
      "cell_type": "code",
      "metadata": {
        "id": "aFSx8jkk2t7V"
      },
      "source": [
        "record = {\"101\":{\"Product name\":\"ParleG\",         \"Category\":\"Cookies\",    \"Unit\": 150, \"Price\": 50, \"Quantity\": 120},\n",
        "          \"102\":{\"Product name\":\"Cadbury Oreo\",   \"Category\":\"Hard Sweet\", \"Unit\": 120, \"Price\": 75, \"Quantity\": 200},\n",
        "          \"103\":{\"Product name\":\"Sunfeast Cream\", \"Category\":\"Cookies\",    \"Unit\": 110, \"Price\": 80, \"Quantity\": 100},\n",
        "          \"104\":{\"Product name\":\"Coconut Crunch\", \"Category\":\"Semi Sweet\", \"Unit\": 150, \"Price\": 40, \"Quantity\": 50},\n",
        "          \"105\":{\"Product name\":\"Choco Chip \",    \"Category\":\"Cookies\",    \"Unit\": 140, \"Price\": 150, \"Quantity\": 250},\n",
        "          \"106\":{\"Product name\":\"Marie\",          \"Category\":\"Semi Sweet\", \"Unit\": 130, \"Price\": 70, \"Quantity\": 100},\n",
        "          \"107\":{\"Product name\":\"Hide&Seek\",      \"Category\":\"Cookies\",    \"Unit\": 180, \"Price\": 250, \"Quantity\": 150},\n",
        "          \"108\":{\"Product name\":\"Patanjali\",      \"Category\":\"Semi Sweet\", \"Unit\": 100, \"Price\": 50, \"Quantity\": 70},\n",
        "          \"109\":{\"Product name\":\"Butter Craker\",  \"Category\":\"Cookies\",    \"Unit\": 160, \"Price\": 125, \"Quantity\": 170},\n",
        "          \"110\":{\"Product name\":\"Cheesy Nibbles\", \"Category\":\"Crackers\",   \"Unit\": 140, \"Price\": 150, \"Quantity\": 120},\n",
        "          \"111\":{\"Product name\":\"Good Day\",       \"Category\":\"Cookies\",    \"Unit\": 150, \"Price\": 170, \"Quantity\": 100},\n",
        "          \"112\":{\"Product name\":\"Tiger choco\",    \"Category\":\"Cookies\",    \"Unit\": 140, \"Price\": 40, \"Quantity\": 60},\n",
        "          \"113\":{\"Product name\":\"Monaco\",         \"Category\":\"Cookies\",    \"Unit\": 150, \"Price\": 80, \"Quantity\": 160},\n",
        "          \"114\":{\"Product name\":\"Twentytwenty\",   \"Category\":\"Crackers\",   \"Unit\": 150, \"Price\": 60, \"Quantity\": 90},\n",
        "          \"115\":{\"Product name\":\"Happyhappy\",     \"Category\":\"Cookies\",    \"Unit\": 160, \"Price\": 125, \"Quantity\": 150},\n",
        "          \"116\":{\"Product name\":\"MagiX\",          \"Category\":\"Cookies\",    \"Unit\": 190, \"Price\": 70, \"Quantity\": 100},\n",
        "          \"117\":{\"Product name\":\"Krackjack\",      \"Category\":\"Cookies\",    \"Unit\": 150, \"Price\": 60, \"Quantity\": 180},\n",
        "          \"118\":{\"Product name\":\"Horlicks\",       \"Category\":\"Hard Sweet\", \"Unit\": 190, \"Price\": 150, \"Quantity\": 170},\n",
        "          \"119\":{\"Product name\":\"Jimjam\",         \"Category\":\"Short Dough\",\"Unit\": 170, \"Price\": 200, \"Quantity\": 190},\n",
        "          \"120\":{\"Product name\":\"Rose Saltino\",   \"Category\":\"Cookies\",    \"Unit\": 180, \"Price\": 90, \"Quantity\": 80},\n",
        "          \"121\":{\"Product name\":\"MCvite\",         \"Category\":\"Cookies\",    \"Unit\": 170, \"Price\": 40, \"Quantity\": 50},\n",
        "          \"122\":{\"Product name\":\"Blackjack\",      \"Category\":\"Short dough\",\"Unit\": 150, \"Price\": 100, \"Quantity\": 80},\n",
        "          \"123\":{\"Product name\":\"Choco snaps\",    \"Category\":\"Cookies\",    \"Unit\": 140, \"Price\": 120, \"Quantity\": 40},\n",
        "          \"124\":{\"Product name\":\"Jeera cookies\",  \"Category\":\"Cookies\",    \"Unit\": 180, \"Price\": 100, \"Quantity\": 50},\n",
        "          \"125\":{\"Product name\":\"Fruit biscuits\", \"Category\":\"Cookies\",    \"Unit\": 150, \"Price\": 50, \"Quantity\": 30},\n",
        "          \"126\":{\"Product name\":\"Bakerbix\",       \"Category\":\"crakers\",    \"Unit\": 130, \"Price\": 120, \"Quantity\": 70},\n",
        "          \"127\":{\"Product name\":\"unibic biscuits\",\"Category\":\"Cookies\",    \"Unit\": 250, \"Price\": 30, \"Quantity\": 50},\n",
        "          \"128\":{\"Product name\":\"Dark fantasy\",   \"Category\":\"Cookies\",    \"Unit\": 150, \"Price\": 50, \"Quantity\": 70},\n",
        "          \"129\":{\"Product name\":\"Britania marie\", \"Category\":\"Cookies\",    \"Unit\": 130, \"Price\": 100, \"Quantity\": 170},\n",
        "          \"130\":{\"Product name\":\"Burbon\",         \"Category\":\"Cookies\",    \"Unit\": 180, \"Price\": 200, \"Quantity\": 200}}"
      ],
      "execution_count": 302,
      "outputs": []
    },
    {
      "cell_type": "code",
      "metadata": {
        "id": "lWF1c7IgJaT4"
      },
      "source": [
        "reg=101"
      ],
      "execution_count": 303,
      "outputs": []
    },
    {
      "cell_type": "code",
      "metadata": {
        "colab": {
          "base_uri": "https://localhost:8080/"
        },
        "id": "tBQiPfW4bOOy",
        "outputId": "c33967cb-ec28-4f8a-95bf-66655381c76f"
      },
      "source": [
        "record[\"110\"]"
      ],
      "execution_count": 304,
      "outputs": [
        {
          "output_type": "execute_result",
          "data": {
            "text/plain": [
              "{'Category': 'Crackers',\n",
              " 'Price': 150,\n",
              " 'Product name': 'Cheesy Nibbles',\n",
              " 'Quantity': 120,\n",
              " 'Unit': 140}"
            ]
          },
          "metadata": {},
          "execution_count": 304
        }
      ]
    },
    {
      "cell_type": "code",
      "metadata": {
        "id": "2Vwq6loDenc5"
      },
      "source": [
        "record[\"101\"]['price']=250"
      ],
      "execution_count": 305,
      "outputs": []
    },
    {
      "cell_type": "code",
      "metadata": {
        "colab": {
          "base_uri": "https://localhost:8080/"
        },
        "id": "kO5hCvLwe4dQ",
        "outputId": "46b88d05-aa0f-4b0b-fd81-7f5bac92dfcb"
      },
      "source": [
        "record"
      ],
      "execution_count": 306,
      "outputs": [
        {
          "output_type": "execute_result",
          "data": {
            "text/plain": [
              "{'101': {'Category': 'Cookies',\n",
              "  'Price': 50,\n",
              "  'Product name': 'ParleG',\n",
              "  'Quantity': 120,\n",
              "  'Unit': 150,\n",
              "  'price': 250},\n",
              " '102': {'Category': 'Hard Sweet',\n",
              "  'Price': 75,\n",
              "  'Product name': 'Cadbury Oreo',\n",
              "  'Quantity': 200,\n",
              "  'Unit': 120},\n",
              " '103': {'Category': 'Cookies',\n",
              "  'Price': 80,\n",
              "  'Product name': 'Sunfeast Cream',\n",
              "  'Quantity': 100,\n",
              "  'Unit': 110},\n",
              " '104': {'Category': 'Semi Sweet',\n",
              "  'Price': 40,\n",
              "  'Product name': 'Coconut Crunch',\n",
              "  'Quantity': 50,\n",
              "  'Unit': 150},\n",
              " '105': {'Category': 'Cookies',\n",
              "  'Price': 150,\n",
              "  'Product name': 'Choco Chip ',\n",
              "  'Quantity': 250,\n",
              "  'Unit': 140},\n",
              " '106': {'Category': 'Semi Sweet',\n",
              "  'Price': 70,\n",
              "  'Product name': 'Marie',\n",
              "  'Quantity': 100,\n",
              "  'Unit': 130},\n",
              " '107': {'Category': 'Cookies',\n",
              "  'Price': 250,\n",
              "  'Product name': 'Hide&Seek',\n",
              "  'Quantity': 150,\n",
              "  'Unit': 180},\n",
              " '108': {'Category': 'Semi Sweet',\n",
              "  'Price': 50,\n",
              "  'Product name': 'Patanjali',\n",
              "  'Quantity': 70,\n",
              "  'Unit': 100},\n",
              " '109': {'Category': 'Cookies',\n",
              "  'Price': 125,\n",
              "  'Product name': 'Butter Craker',\n",
              "  'Quantity': 170,\n",
              "  'Unit': 160},\n",
              " '110': {'Category': 'Crackers',\n",
              "  'Price': 150,\n",
              "  'Product name': 'Cheesy Nibbles',\n",
              "  'Quantity': 120,\n",
              "  'Unit': 140},\n",
              " '111': {'Category': 'Cookies',\n",
              "  'Price': 170,\n",
              "  'Product name': 'Good Day',\n",
              "  'Quantity': 100,\n",
              "  'Unit': 150},\n",
              " '112': {'Category': 'Cookies',\n",
              "  'Price': 40,\n",
              "  'Product name': 'Tiger choco',\n",
              "  'Quantity': 60,\n",
              "  'Unit': 140},\n",
              " '113': {'Category': 'Cookies',\n",
              "  'Price': 80,\n",
              "  'Product name': 'Monaco',\n",
              "  'Quantity': 160,\n",
              "  'Unit': 150},\n",
              " '114': {'Category': 'Crackers',\n",
              "  'Price': 60,\n",
              "  'Product name': 'Twentytwenty',\n",
              "  'Quantity': 90,\n",
              "  'Unit': 150},\n",
              " '115': {'Category': 'Cookies',\n",
              "  'Price': 125,\n",
              "  'Product name': 'Happyhappy',\n",
              "  'Quantity': 150,\n",
              "  'Unit': 160},\n",
              " '116': {'Category': 'Cookies',\n",
              "  'Price': 70,\n",
              "  'Product name': 'MagiX',\n",
              "  'Quantity': 100,\n",
              "  'Unit': 190},\n",
              " '117': {'Category': 'Cookies',\n",
              "  'Price': 60,\n",
              "  'Product name': 'Krackjack',\n",
              "  'Quantity': 180,\n",
              "  'Unit': 150},\n",
              " '118': {'Category': 'Hard Sweet',\n",
              "  'Price': 150,\n",
              "  'Product name': 'Horlicks',\n",
              "  'Quantity': 170,\n",
              "  'Unit': 190},\n",
              " '119': {'Category': 'Short Dough',\n",
              "  'Price': 200,\n",
              "  'Product name': 'Jimjam',\n",
              "  'Quantity': 190,\n",
              "  'Unit': 170},\n",
              " '120': {'Category': 'Cookies',\n",
              "  'Price': 90,\n",
              "  'Product name': 'Rose Saltino',\n",
              "  'Quantity': 80,\n",
              "  'Unit': 180},\n",
              " '121': {'Category': 'Cookies',\n",
              "  'Price': 40,\n",
              "  'Product name': 'MCvite',\n",
              "  'Quantity': 50,\n",
              "  'Unit': 170},\n",
              " '122': {'Category': 'Short dough',\n",
              "  'Price': 100,\n",
              "  'Product name': 'Blackjack',\n",
              "  'Quantity': 80,\n",
              "  'Unit': 150},\n",
              " '123': {'Category': 'Cookies',\n",
              "  'Price': 120,\n",
              "  'Product name': 'Choco snaps',\n",
              "  'Quantity': 40,\n",
              "  'Unit': 140},\n",
              " '124': {'Category': 'Cookies',\n",
              "  'Price': 100,\n",
              "  'Product name': 'Jeera cookies',\n",
              "  'Quantity': 50,\n",
              "  'Unit': 180},\n",
              " '125': {'Category': 'Cookies',\n",
              "  'Price': 50,\n",
              "  'Product name': 'Fruit biscuits',\n",
              "  'Quantity': 30,\n",
              "  'Unit': 150},\n",
              " '126': {'Category': 'crakers',\n",
              "  'Price': 120,\n",
              "  'Product name': 'Bakerbix',\n",
              "  'Quantity': 70,\n",
              "  'Unit': 130},\n",
              " '127': {'Category': 'Cookies',\n",
              "  'Price': 30,\n",
              "  'Product name': 'unibic biscuits',\n",
              "  'Quantity': 50,\n",
              "  'Unit': 250},\n",
              " '128': {'Category': 'Cookies',\n",
              "  'Price': 50,\n",
              "  'Product name': 'Dark fantasy',\n",
              "  'Quantity': 70,\n",
              "  'Unit': 150},\n",
              " '129': {'Category': 'Cookies',\n",
              "  'Price': 100,\n",
              "  'Product name': 'Britania marie',\n",
              "  'Quantity': 170,\n",
              "  'Unit': 130},\n",
              " '130': {'Category': 'Cookies',\n",
              "  'Price': 200,\n",
              "  'Product name': 'Burbon',\n",
              "  'Quantity': 200,\n",
              "  'Unit': 180}}"
            ]
          },
          "metadata": {},
          "execution_count": 306
        }
      ]
    },
    {
      "cell_type": "code",
      "metadata": {
        "colab": {
          "base_uri": "https://localhost:8080/",
          "height": 154
        },
        "id": "_P2bG8xhfPmk",
        "outputId": "e8909b50-82c2-40a1-a079-1040939cb1b4"
      },
      "source": [
        "import json\n",
        "js = json.dumps(record)\n",
        "js"
      ],
      "execution_count": 307,
      "outputs": [
        {
          "output_type": "execute_result",
          "data": {
            "application/vnd.google.colaboratory.intrinsic+json": {
              "type": "string"
            },
            "text/plain": [
              "'{\"101\": {\"Product name\": \"ParleG\", \"Category\": \"Cookies\", \"Unit\": 150, \"Price\": 50, \"Quantity\": 120, \"price\": 250}, \"102\": {\"Product name\": \"Cadbury Oreo\", \"Category\": \"Hard Sweet\", \"Unit\": 120, \"Price\": 75, \"Quantity\": 200}, \"103\": {\"Product name\": \"Sunfeast Cream\", \"Category\": \"Cookies\", \"Unit\": 110, \"Price\": 80, \"Quantity\": 100}, \"104\": {\"Product name\": \"Coconut Crunch\", \"Category\": \"Semi Sweet\", \"Unit\": 150, \"Price\": 40, \"Quantity\": 50}, \"105\": {\"Product name\": \"Choco Chip \", \"Category\": \"Cookies\", \"Unit\": 140, \"Price\": 150, \"Quantity\": 250}, \"106\": {\"Product name\": \"Marie\", \"Category\": \"Semi Sweet\", \"Unit\": 130, \"Price\": 70, \"Quantity\": 100}, \"107\": {\"Product name\": \"Hide&Seek\", \"Category\": \"Cookies\", \"Unit\": 180, \"Price\": 250, \"Quantity\": 150}, \"108\": {\"Product name\": \"Patanjali\", \"Category\": \"Semi Sweet\", \"Unit\": 100, \"Price\": 50, \"Quantity\": 70}, \"109\": {\"Product name\": \"Butter Craker\", \"Category\": \"Cookies\", \"Unit\": 160, \"Price\": 125, \"Quantity\": 170}, \"110\": {\"Product name\": \"Cheesy Nibbles\", \"Category\": \"Crackers\", \"Unit\": 140, \"Price\": 150, \"Quantity\": 120}, \"111\": {\"Product name\": \"Good Day\", \"Category\": \"Cookies\", \"Unit\": 150, \"Price\": 170, \"Quantity\": 100}, \"112\": {\"Product name\": \"Tiger choco\", \"Category\": \"Cookies\", \"Unit\": 140, \"Price\": 40, \"Quantity\": 60}, \"113\": {\"Product name\": \"Monaco\", \"Category\": \"Cookies\", \"Unit\": 150, \"Price\": 80, \"Quantity\": 160}, \"114\": {\"Product name\": \"Twentytwenty\", \"Category\": \"Crackers\", \"Unit\": 150, \"Price\": 60, \"Quantity\": 90}, \"115\": {\"Product name\": \"Happyhappy\", \"Category\": \"Cookies\", \"Unit\": 160, \"Price\": 125, \"Quantity\": 150}, \"116\": {\"Product name\": \"MagiX\", \"Category\": \"Cookies\", \"Unit\": 190, \"Price\": 70, \"Quantity\": 100}, \"117\": {\"Product name\": \"Krackjack\", \"Category\": \"Cookies\", \"Unit\": 150, \"Price\": 60, \"Quantity\": 180}, \"118\": {\"Product name\": \"Horlicks\", \"Category\": \"Hard Sweet\", \"Unit\": 190, \"Price\": 150, \"Quantity\": 170}, \"119\": {\"Product name\": \"Jimjam\", \"Category\": \"Short Dough\", \"Unit\": 170, \"Price\": 200, \"Quantity\": 190}, \"120\": {\"Product name\": \"Rose Saltino\", \"Category\": \"Cookies\", \"Unit\": 180, \"Price\": 90, \"Quantity\": 80}, \"121\": {\"Product name\": \"MCvite\", \"Category\": \"Cookies\", \"Unit\": 170, \"Price\": 40, \"Quantity\": 50}, \"122\": {\"Product name\": \"Blackjack\", \"Category\": \"Short dough\", \"Unit\": 150, \"Price\": 100, \"Quantity\": 80}, \"123\": {\"Product name\": \"Choco snaps\", \"Category\": \"Cookies\", \"Unit\": 140, \"Price\": 120, \"Quantity\": 40}, \"124\": {\"Product name\": \"Jeera cookies\", \"Category\": \"Cookies\", \"Unit\": 180, \"Price\": 100, \"Quantity\": 50}, \"125\": {\"Product name\": \"Fruit biscuits\", \"Category\": \"Cookies\", \"Unit\": 150, \"Price\": 50, \"Quantity\": 30}, \"126\": {\"Product name\": \"Bakerbix\", \"Category\": \"crakers\", \"Unit\": 130, \"Price\": 120, \"Quantity\": 70}, \"127\": {\"Product name\": \"unibic biscuits\", \"Category\": \"Cookies\", \"Unit\": 250, \"Price\": 30, \"Quantity\": 50}, \"128\": {\"Product name\": \"Dark fantasy\", \"Category\": \"Cookies\", \"Unit\": 150, \"Price\": 50, \"Quantity\": 70}, \"129\": {\"Product name\": \"Britania marie\", \"Category\": \"Cookies\", \"Unit\": 130, \"Price\": 100, \"Quantity\": 170}, \"130\": {\"Product name\": \"Burbon\", \"Category\": \"Cookies\", \"Unit\": 180, \"Price\": 200, \"Quantity\": 200}}'"
            ]
          },
          "metadata": {},
          "execution_count": 307
        }
      ]
    },
    {
      "cell_type": "code",
      "metadata": {
        "colab": {
          "base_uri": "https://localhost:8080/"
        },
        "id": "tRg8YBBnfc_T",
        "outputId": "c6188e3c-1460-44dd-c7cb-57537a66f32c"
      },
      "source": [
        "record"
      ],
      "execution_count": 308,
      "outputs": [
        {
          "output_type": "execute_result",
          "data": {
            "text/plain": [
              "{'101': {'Category': 'Cookies',\n",
              "  'Price': 50,\n",
              "  'Product name': 'ParleG',\n",
              "  'Quantity': 120,\n",
              "  'Unit': 150,\n",
              "  'price': 250},\n",
              " '102': {'Category': 'Hard Sweet',\n",
              "  'Price': 75,\n",
              "  'Product name': 'Cadbury Oreo',\n",
              "  'Quantity': 200,\n",
              "  'Unit': 120},\n",
              " '103': {'Category': 'Cookies',\n",
              "  'Price': 80,\n",
              "  'Product name': 'Sunfeast Cream',\n",
              "  'Quantity': 100,\n",
              "  'Unit': 110},\n",
              " '104': {'Category': 'Semi Sweet',\n",
              "  'Price': 40,\n",
              "  'Product name': 'Coconut Crunch',\n",
              "  'Quantity': 50,\n",
              "  'Unit': 150},\n",
              " '105': {'Category': 'Cookies',\n",
              "  'Price': 150,\n",
              "  'Product name': 'Choco Chip ',\n",
              "  'Quantity': 250,\n",
              "  'Unit': 140},\n",
              " '106': {'Category': 'Semi Sweet',\n",
              "  'Price': 70,\n",
              "  'Product name': 'Marie',\n",
              "  'Quantity': 100,\n",
              "  'Unit': 130},\n",
              " '107': {'Category': 'Cookies',\n",
              "  'Price': 250,\n",
              "  'Product name': 'Hide&Seek',\n",
              "  'Quantity': 150,\n",
              "  'Unit': 180},\n",
              " '108': {'Category': 'Semi Sweet',\n",
              "  'Price': 50,\n",
              "  'Product name': 'Patanjali',\n",
              "  'Quantity': 70,\n",
              "  'Unit': 100},\n",
              " '109': {'Category': 'Cookies',\n",
              "  'Price': 125,\n",
              "  'Product name': 'Butter Craker',\n",
              "  'Quantity': 170,\n",
              "  'Unit': 160},\n",
              " '110': {'Category': 'Crackers',\n",
              "  'Price': 150,\n",
              "  'Product name': 'Cheesy Nibbles',\n",
              "  'Quantity': 120,\n",
              "  'Unit': 140},\n",
              " '111': {'Category': 'Cookies',\n",
              "  'Price': 170,\n",
              "  'Product name': 'Good Day',\n",
              "  'Quantity': 100,\n",
              "  'Unit': 150},\n",
              " '112': {'Category': 'Cookies',\n",
              "  'Price': 40,\n",
              "  'Product name': 'Tiger choco',\n",
              "  'Quantity': 60,\n",
              "  'Unit': 140},\n",
              " '113': {'Category': 'Cookies',\n",
              "  'Price': 80,\n",
              "  'Product name': 'Monaco',\n",
              "  'Quantity': 160,\n",
              "  'Unit': 150},\n",
              " '114': {'Category': 'Crackers',\n",
              "  'Price': 60,\n",
              "  'Product name': 'Twentytwenty',\n",
              "  'Quantity': 90,\n",
              "  'Unit': 150},\n",
              " '115': {'Category': 'Cookies',\n",
              "  'Price': 125,\n",
              "  'Product name': 'Happyhappy',\n",
              "  'Quantity': 150,\n",
              "  'Unit': 160},\n",
              " '116': {'Category': 'Cookies',\n",
              "  'Price': 70,\n",
              "  'Product name': 'MagiX',\n",
              "  'Quantity': 100,\n",
              "  'Unit': 190},\n",
              " '117': {'Category': 'Cookies',\n",
              "  'Price': 60,\n",
              "  'Product name': 'Krackjack',\n",
              "  'Quantity': 180,\n",
              "  'Unit': 150},\n",
              " '118': {'Category': 'Hard Sweet',\n",
              "  'Price': 150,\n",
              "  'Product name': 'Horlicks',\n",
              "  'Quantity': 170,\n",
              "  'Unit': 190},\n",
              " '119': {'Category': 'Short Dough',\n",
              "  'Price': 200,\n",
              "  'Product name': 'Jimjam',\n",
              "  'Quantity': 190,\n",
              "  'Unit': 170},\n",
              " '120': {'Category': 'Cookies',\n",
              "  'Price': 90,\n",
              "  'Product name': 'Rose Saltino',\n",
              "  'Quantity': 80,\n",
              "  'Unit': 180},\n",
              " '121': {'Category': 'Cookies',\n",
              "  'Price': 40,\n",
              "  'Product name': 'MCvite',\n",
              "  'Quantity': 50,\n",
              "  'Unit': 170},\n",
              " '122': {'Category': 'Short dough',\n",
              "  'Price': 100,\n",
              "  'Product name': 'Blackjack',\n",
              "  'Quantity': 80,\n",
              "  'Unit': 150},\n",
              " '123': {'Category': 'Cookies',\n",
              "  'Price': 120,\n",
              "  'Product name': 'Choco snaps',\n",
              "  'Quantity': 40,\n",
              "  'Unit': 140},\n",
              " '124': {'Category': 'Cookies',\n",
              "  'Price': 100,\n",
              "  'Product name': 'Jeera cookies',\n",
              "  'Quantity': 50,\n",
              "  'Unit': 180},\n",
              " '125': {'Category': 'Cookies',\n",
              "  'Price': 50,\n",
              "  'Product name': 'Fruit biscuits',\n",
              "  'Quantity': 30,\n",
              "  'Unit': 150},\n",
              " '126': {'Category': 'crakers',\n",
              "  'Price': 120,\n",
              "  'Product name': 'Bakerbix',\n",
              "  'Quantity': 70,\n",
              "  'Unit': 130},\n",
              " '127': {'Category': 'Cookies',\n",
              "  'Price': 30,\n",
              "  'Product name': 'unibic biscuits',\n",
              "  'Quantity': 50,\n",
              "  'Unit': 250},\n",
              " '128': {'Category': 'Cookies',\n",
              "  'Price': 50,\n",
              "  'Product name': 'Dark fantasy',\n",
              "  'Quantity': 70,\n",
              "  'Unit': 150},\n",
              " '129': {'Category': 'Cookies',\n",
              "  'Price': 100,\n",
              "  'Product name': 'Britania marie',\n",
              "  'Quantity': 170,\n",
              "  'Unit': 130},\n",
              " '130': {'Category': 'Cookies',\n",
              "  'Price': 200,\n",
              "  'Product name': 'Burbon',\n",
              "  'Quantity': 200,\n",
              "  'Unit': 180}}"
            ]
          },
          "metadata": {},
          "execution_count": 308
        }
      ]
    },
    {
      "cell_type": "code",
      "metadata": {
        "colab": {
          "base_uri": "https://localhost:8080/"
        },
        "id": "E8p4opW0fmhr",
        "outputId": "ce1a4d8f-0329-490f-8f89-a348834e0271"
      },
      "source": [
        "type (js)"
      ],
      "execution_count": 309,
      "outputs": [
        {
          "output_type": "execute_result",
          "data": {
            "text/plain": [
              "str"
            ]
          },
          "metadata": {},
          "execution_count": 309
        }
      ]
    },
    {
      "cell_type": "code",
      "metadata": {
        "colab": {
          "base_uri": "https://localhost:8080/"
        },
        "id": "aIxgyzETft0c",
        "outputId": "c8e231e4-184d-4fb0-c09d-465e43790436"
      },
      "source": [
        "type (record)"
      ],
      "execution_count": 310,
      "outputs": [
        {
          "output_type": "execute_result",
          "data": {
            "text/plain": [
              "dict"
            ]
          },
          "metadata": {},
          "execution_count": 310
        }
      ]
    },
    {
      "cell_type": "code",
      "metadata": {
        "id": "vWDAhcn1f0rT"
      },
      "source": [
        "fd=open(\"record.json\",'w')\n",
        "fd.write(js)\n",
        "fd.close()"
      ],
      "execution_count": 311,
      "outputs": []
    },
    {
      "cell_type": "code",
      "metadata": {
        "id": "2MbjuR4UgGIX"
      },
      "source": [
        "fd=open(\"record.json\",'r')\n",
        "txt=fd.read()\n",
        "fd.close()"
      ],
      "execution_count": 312,
      "outputs": []
    },
    {
      "cell_type": "code",
      "metadata": {
        "id": "4DETQ61tgHCI"
      },
      "source": [
        "record = json.loads(txt)"
      ],
      "execution_count": 313,
      "outputs": []
    },
    {
      "cell_type": "code",
      "metadata": {
        "colab": {
          "base_uri": "https://localhost:8080/"
        },
        "id": "ztsTg7PwyrBT",
        "outputId": "4ca047f6-ffcb-4461-c36a-49004a8d1cd5"
      },
      "source": [
        "Prod_id = str(input(\"Enter product id:\"))\n",
        "name = str(input(\"Enter product name:\"))\n",
        "category = str(input(\"Enter product category:\"))\n",
        "unit = str(input(\"Enter product unit:\"))\n",
        "pr = str(input(\"Enter product price:\"))\n",
        "qt = str(input(\"Enter product quantity:\"))"
      ],
      "execution_count": 314,
      "outputs": [
        {
          "name": "stdout",
          "output_type": "stream",
          "text": [
            "Enter product id:121\n",
            "Enter product name:crackjack\n",
            "Enter product category:cookie\n",
            "Enter product unit:125\n",
            "Enter product price:112\n",
            "Enter product quantity:107\n"
          ]
        }
      ]
    },
    {
      "cell_type": "code",
      "metadata": {
        "colab": {
          "base_uri": "https://localhost:8080/"
        },
        "id": "28o36l6yg9xy",
        "outputId": "ccccdf76-30e9-4104-b7ac-dad1a1b0f827"
      },
      "source": [
        "record"
      ],
      "execution_count": 315,
      "outputs": [
        {
          "output_type": "execute_result",
          "data": {
            "text/plain": [
              "{'101': {'Category': 'Cookies',\n",
              "  'Price': 50,\n",
              "  'Product name': 'ParleG',\n",
              "  'Quantity': 120,\n",
              "  'Unit': 150,\n",
              "  'price': 250},\n",
              " '102': {'Category': 'Hard Sweet',\n",
              "  'Price': 75,\n",
              "  'Product name': 'Cadbury Oreo',\n",
              "  'Quantity': 200,\n",
              "  'Unit': 120},\n",
              " '103': {'Category': 'Cookies',\n",
              "  'Price': 80,\n",
              "  'Product name': 'Sunfeast Cream',\n",
              "  'Quantity': 100,\n",
              "  'Unit': 110},\n",
              " '104': {'Category': 'Semi Sweet',\n",
              "  'Price': 40,\n",
              "  'Product name': 'Coconut Crunch',\n",
              "  'Quantity': 50,\n",
              "  'Unit': 150},\n",
              " '105': {'Category': 'Cookies',\n",
              "  'Price': 150,\n",
              "  'Product name': 'Choco Chip ',\n",
              "  'Quantity': 250,\n",
              "  'Unit': 140},\n",
              " '106': {'Category': 'Semi Sweet',\n",
              "  'Price': 70,\n",
              "  'Product name': 'Marie',\n",
              "  'Quantity': 100,\n",
              "  'Unit': 130},\n",
              " '107': {'Category': 'Cookies',\n",
              "  'Price': 250,\n",
              "  'Product name': 'Hide&Seek',\n",
              "  'Quantity': 150,\n",
              "  'Unit': 180},\n",
              " '108': {'Category': 'Semi Sweet',\n",
              "  'Price': 50,\n",
              "  'Product name': 'Patanjali',\n",
              "  'Quantity': 70,\n",
              "  'Unit': 100},\n",
              " '109': {'Category': 'Cookies',\n",
              "  'Price': 125,\n",
              "  'Product name': 'Butter Craker',\n",
              "  'Quantity': 170,\n",
              "  'Unit': 160},\n",
              " '110': {'Category': 'Crackers',\n",
              "  'Price': 150,\n",
              "  'Product name': 'Cheesy Nibbles',\n",
              "  'Quantity': 120,\n",
              "  'Unit': 140},\n",
              " '111': {'Category': 'Cookies',\n",
              "  'Price': 170,\n",
              "  'Product name': 'Good Day',\n",
              "  'Quantity': 100,\n",
              "  'Unit': 150},\n",
              " '112': {'Category': 'Cookies',\n",
              "  'Price': 40,\n",
              "  'Product name': 'Tiger choco',\n",
              "  'Quantity': 60,\n",
              "  'Unit': 140},\n",
              " '113': {'Category': 'Cookies',\n",
              "  'Price': 80,\n",
              "  'Product name': 'Monaco',\n",
              "  'Quantity': 160,\n",
              "  'Unit': 150},\n",
              " '114': {'Category': 'Crackers',\n",
              "  'Price': 60,\n",
              "  'Product name': 'Twentytwenty',\n",
              "  'Quantity': 90,\n",
              "  'Unit': 150},\n",
              " '115': {'Category': 'Cookies',\n",
              "  'Price': 125,\n",
              "  'Product name': 'Happyhappy',\n",
              "  'Quantity': 150,\n",
              "  'Unit': 160},\n",
              " '116': {'Category': 'Cookies',\n",
              "  'Price': 70,\n",
              "  'Product name': 'MagiX',\n",
              "  'Quantity': 100,\n",
              "  'Unit': 190},\n",
              " '117': {'Category': 'Cookies',\n",
              "  'Price': 60,\n",
              "  'Product name': 'Krackjack',\n",
              "  'Quantity': 180,\n",
              "  'Unit': 150},\n",
              " '118': {'Category': 'Hard Sweet',\n",
              "  'Price': 150,\n",
              "  'Product name': 'Horlicks',\n",
              "  'Quantity': 170,\n",
              "  'Unit': 190},\n",
              " '119': {'Category': 'Short Dough',\n",
              "  'Price': 200,\n",
              "  'Product name': 'Jimjam',\n",
              "  'Quantity': 190,\n",
              "  'Unit': 170},\n",
              " '120': {'Category': 'Cookies',\n",
              "  'Price': 90,\n",
              "  'Product name': 'Rose Saltino',\n",
              "  'Quantity': 80,\n",
              "  'Unit': 180},\n",
              " '121': {'Category': 'Cookies',\n",
              "  'Price': 40,\n",
              "  'Product name': 'MCvite',\n",
              "  'Quantity': 50,\n",
              "  'Unit': 170},\n",
              " '122': {'Category': 'Short dough',\n",
              "  'Price': 100,\n",
              "  'Product name': 'Blackjack',\n",
              "  'Quantity': 80,\n",
              "  'Unit': 150},\n",
              " '123': {'Category': 'Cookies',\n",
              "  'Price': 120,\n",
              "  'Product name': 'Choco snaps',\n",
              "  'Quantity': 40,\n",
              "  'Unit': 140},\n",
              " '124': {'Category': 'Cookies',\n",
              "  'Price': 100,\n",
              "  'Product name': 'Jeera cookies',\n",
              "  'Quantity': 50,\n",
              "  'Unit': 180},\n",
              " '125': {'Category': 'Cookies',\n",
              "  'Price': 50,\n",
              "  'Product name': 'Fruit biscuits',\n",
              "  'Quantity': 30,\n",
              "  'Unit': 150},\n",
              " '126': {'Category': 'crakers',\n",
              "  'Price': 120,\n",
              "  'Product name': 'Bakerbix',\n",
              "  'Quantity': 70,\n",
              "  'Unit': 130},\n",
              " '127': {'Category': 'Cookies',\n",
              "  'Price': 30,\n",
              "  'Product name': 'unibic biscuits',\n",
              "  'Quantity': 50,\n",
              "  'Unit': 250},\n",
              " '128': {'Category': 'Cookies',\n",
              "  'Price': 50,\n",
              "  'Product name': 'Dark fantasy',\n",
              "  'Quantity': 70,\n",
              "  'Unit': 150},\n",
              " '129': {'Category': 'Cookies',\n",
              "  'Price': 100,\n",
              "  'Product name': 'Britania marie',\n",
              "  'Quantity': 170,\n",
              "  'Unit': 130},\n",
              " '130': {'Category': 'Cookies',\n",
              "  'Price': 200,\n",
              "  'Product name': 'Burbon',\n",
              "  'Quantity': 200,\n",
              "  'Unit': 180}}"
            ]
          },
          "metadata": {},
          "execution_count": 315
        }
      ]
    },
    {
      "cell_type": "code",
      "metadata": {
        "colab": {
          "base_uri": "https://localhost:8080/"
        },
        "id": "BjZHkwjGhX5_",
        "outputId": "c270c078-08e0-469f-8771-0ffae61c3aa7"
      },
      "source": [
        "record[\"107\"]"
      ],
      "execution_count": 316,
      "outputs": [
        {
          "output_type": "execute_result",
          "data": {
            "text/plain": [
              "{'Category': 'Cookies',\n",
              " 'Price': 250,\n",
              " 'Product name': 'Hide&Seek',\n",
              " 'Quantity': 150,\n",
              " 'Unit': 180}"
            ]
          },
          "metadata": {},
          "execution_count": 316
        }
      ]
    },
    {
      "cell_type": "code",
      "metadata": {
        "colab": {
          "base_uri": "https://localhost:8080/",
          "height": 35
        },
        "id": "sn2cw-rShw_b",
        "outputId": "ac9f89e4-bc54-4791-c49c-0e395069b59c"
      },
      "source": [
        "import time\n",
        "time.ctime()"
      ],
      "execution_count": 317,
      "outputs": [
        {
          "output_type": "execute_result",
          "data": {
            "application/vnd.google.colaboratory.intrinsic+json": {
              "type": "string"
            },
            "text/plain": [
              "'Mon Sep  6 11:12:03 2021'"
            ]
          },
          "metadata": {},
          "execution_count": 317
        }
      ]
    },
    {
      "cell_type": "code",
      "metadata": {
        "colab": {
          "base_uri": "https://localhost:8080/"
        },
        "id": "9riKguynh7V7",
        "outputId": "11d13638-829a-4984-b2a2-931c591eb3ac"
      },
      "source": [
        "record.values()"
      ],
      "execution_count": 318,
      "outputs": [
        {
          "output_type": "execute_result",
          "data": {
            "text/plain": [
              "dict_values([{'Product name': 'ParleG', 'Category': 'Cookies', 'Unit': 150, 'Price': 50, 'Quantity': 120, 'price': 250}, {'Product name': 'Cadbury Oreo', 'Category': 'Hard Sweet', 'Unit': 120, 'Price': 75, 'Quantity': 200}, {'Product name': 'Sunfeast Cream', 'Category': 'Cookies', 'Unit': 110, 'Price': 80, 'Quantity': 100}, {'Product name': 'Coconut Crunch', 'Category': 'Semi Sweet', 'Unit': 150, 'Price': 40, 'Quantity': 50}, {'Product name': 'Choco Chip ', 'Category': 'Cookies', 'Unit': 140, 'Price': 150, 'Quantity': 250}, {'Product name': 'Marie', 'Category': 'Semi Sweet', 'Unit': 130, 'Price': 70, 'Quantity': 100}, {'Product name': 'Hide&Seek', 'Category': 'Cookies', 'Unit': 180, 'Price': 250, 'Quantity': 150}, {'Product name': 'Patanjali', 'Category': 'Semi Sweet', 'Unit': 100, 'Price': 50, 'Quantity': 70}, {'Product name': 'Butter Craker', 'Category': 'Cookies', 'Unit': 160, 'Price': 125, 'Quantity': 170}, {'Product name': 'Cheesy Nibbles', 'Category': 'Crackers', 'Unit': 140, 'Price': 150, 'Quantity': 120}, {'Product name': 'Good Day', 'Category': 'Cookies', 'Unit': 150, 'Price': 170, 'Quantity': 100}, {'Product name': 'Tiger choco', 'Category': 'Cookies', 'Unit': 140, 'Price': 40, 'Quantity': 60}, {'Product name': 'Monaco', 'Category': 'Cookies', 'Unit': 150, 'Price': 80, 'Quantity': 160}, {'Product name': 'Twentytwenty', 'Category': 'Crackers', 'Unit': 150, 'Price': 60, 'Quantity': 90}, {'Product name': 'Happyhappy', 'Category': 'Cookies', 'Unit': 160, 'Price': 125, 'Quantity': 150}, {'Product name': 'MagiX', 'Category': 'Cookies', 'Unit': 190, 'Price': 70, 'Quantity': 100}, {'Product name': 'Krackjack', 'Category': 'Cookies', 'Unit': 150, 'Price': 60, 'Quantity': 180}, {'Product name': 'Horlicks', 'Category': 'Hard Sweet', 'Unit': 190, 'Price': 150, 'Quantity': 170}, {'Product name': 'Jimjam', 'Category': 'Short Dough', 'Unit': 170, 'Price': 200, 'Quantity': 190}, {'Product name': 'Rose Saltino', 'Category': 'Cookies', 'Unit': 180, 'Price': 90, 'Quantity': 80}, {'Product name': 'MCvite', 'Category': 'Cookies', 'Unit': 170, 'Price': 40, 'Quantity': 50}, {'Product name': 'Blackjack', 'Category': 'Short dough', 'Unit': 150, 'Price': 100, 'Quantity': 80}, {'Product name': 'Choco snaps', 'Category': 'Cookies', 'Unit': 140, 'Price': 120, 'Quantity': 40}, {'Product name': 'Jeera cookies', 'Category': 'Cookies', 'Unit': 180, 'Price': 100, 'Quantity': 50}, {'Product name': 'Fruit biscuits', 'Category': 'Cookies', 'Unit': 150, 'Price': 50, 'Quantity': 30}, {'Product name': 'Bakerbix', 'Category': 'crakers', 'Unit': 130, 'Price': 120, 'Quantity': 70}, {'Product name': 'unibic biscuits', 'Category': 'Cookies', 'Unit': 250, 'Price': 30, 'Quantity': 50}, {'Product name': 'Dark fantasy', 'Category': 'Cookies', 'Unit': 150, 'Price': 50, 'Quantity': 70}, {'Product name': 'Britania marie', 'Category': 'Cookies', 'Unit': 130, 'Price': 100, 'Quantity': 170}, {'Product name': 'Burbon', 'Category': 'Cookies', 'Unit': 180, 'Price': 200, 'Quantity': 200}])"
            ]
          },
          "metadata": {},
          "execution_count": 318
        }
      ]
    }
  ]
}